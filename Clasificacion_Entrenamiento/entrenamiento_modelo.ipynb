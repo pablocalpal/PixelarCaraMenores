{
  "nbformat": 4,
  "nbformat_minor": 0,
  "metadata": {
    "colab": {
      "provenance": [],
      "gpuType": "T4"
    },
    "kernelspec": {
      "name": "python3",
      "display_name": "Python 3"
    },
    "language_info": {
      "name": "python"
    },
    "accelerator": "GPU"
  },
  "cells": [
    {
      "cell_type": "code",
      "source": [
        "import kagglehub\n",
        "\n",
        "# Download latest version\n",
        "path = kagglehub.dataset_download(\"frabbisw/facial-age\")\n",
        "\n",
        "print(\"Path to dataset files:\", path)"
      ],
      "metadata": {
        "colab": {
          "base_uri": "https://localhost:8080/"
        },
        "id": "YkWSE9FGgh8O",
        "outputId": "065e4d45-4e3c-4aba-f87a-00ea773cc664"
      },
      "execution_count": null,
      "outputs": [
        {
          "output_type": "stream",
          "name": "stdout",
          "text": [
            "Path to dataset files: /kaggle/input/facial-age\n"
          ]
        }
      ]
    },
    {
      "cell_type": "code",
      "source": [
        "import os\n",
        "import shutil\n",
        "\n",
        "source_dir = '/kaggle/input/facial-age/face_age'\n",
        "target_dir = '/kaggle/working/face_age_cleaned'\n",
        "\n",
        "os.makedirs(target_dir, exist_ok=True)\n",
        "\n",
        "for item in os.listdir(source_dir):\n",
        "    src_path = os.path.join(source_dir, item)\n",
        "    dst_path = os.path.join(target_dir, item)\n",
        "\n",
        "    # Omitimos la carpeta duplicada\n",
        "    if item == 'face_age':\n",
        "        continue\n",
        "\n",
        "    if os.path.isdir(src_path):\n",
        "        shutil.copytree(src_path, dst_path)\n",
        "    else:\n",
        "        shutil.copy2(src_path, dst_path)\n",
        "\n",
        "print(\"Contenido copiado a /kaggle/working/face_age_cleaned sin la carpeta problemática.\")"
      ],
      "metadata": {
        "colab": {
          "base_uri": "https://localhost:8080/"
        },
        "id": "h5vzg72hhw2l",
        "outputId": "84b8c118-cb88-4eb0-f60c-71a9490c9074"
      },
      "execution_count": null,
      "outputs": [
        {
          "output_type": "stream",
          "name": "stdout",
          "text": [
            "Contenido copiado a /kaggle/working/face_age_cleaned sin la carpeta problemática.\n"
          ]
        }
      ]
    },
    {
      "cell_type": "code",
      "execution_count": null,
      "metadata": {
        "colab": {
          "base_uri": "https://localhost:8080/"
        },
        "id": "XRFQt0aSgf6N",
        "outputId": "4782c7eb-073a-468e-fb85-c2b63557b127"
      },
      "outputs": [
        {
          "output_type": "stream",
          "name": "stdout",
          "text": [
            "✔️ Imágenes clasificadas por edad en face_age_cleaned_binary/\n"
          ]
        }
      ],
      "source": [
        "# normalizar_imagenes.py\n",
        "import os\n",
        "import shutil\n",
        "\n",
        "source_dir = '/kaggle/working/face_age_cleaned'\n",
        "target_dir = '/kaggle/working/face_age_cleaned_binary'\n",
        "\n",
        "# Crear carpetas destino\n",
        "os.makedirs(os.path.join(target_dir, '0'), exist_ok=True)  # Menores de edad\n",
        "os.makedirs(os.path.join(target_dir, '1'), exist_ok=True)  # Mayores de edad\n",
        "\n",
        "for folder_name in os.listdir(source_dir):\n",
        "    folder_path = os.path.join(source_dir, folder_name)\n",
        "\n",
        "    if not os.path.isdir(folder_path):\n",
        "        continue\n",
        "\n",
        "    try:\n",
        "        edad = int(folder_name)  # Ej: '024' → 24\n",
        "    except ValueError:\n",
        "        continue\n",
        "\n",
        "    clase = '0' if edad < 18 else '1'\n",
        "    destino_clase = os.path.join(target_dir, clase)\n",
        "\n",
        "    for filename in os.listdir(folder_path):\n",
        "        src_path = os.path.join(folder_path, filename)\n",
        "\n",
        "        if os.path.isfile(src_path):\n",
        "            dst_path = os.path.join(destino_clase, f\"{folder_name}_{filename}\")\n",
        "            shutil.copy2(src_path, dst_path)\n",
        "\n",
        "print(\"✔️ Imágenes clasificadas por edad en face_age_cleaned_binary/\")"
      ]
    },
    {
      "cell_type": "code",
      "source": [
        "# entrenar_modelo.py\n",
        "import os\n",
        "import tensorflow as tf\n",
        "from tensorflow.keras.preprocessing.image import ImageDataGenerator\n",
        "from tensorflow.keras.models import Sequential\n",
        "from tensorflow.keras.layers import Conv2D, MaxPooling2D, Flatten, Dense, Dropout\n",
        "\n",
        "# Configuración\n",
        "IMG_SIZE = 64\n",
        "BATCH_SIZE = 32\n",
        "EPOCHS = 10\n",
        "DATA_DIR = \"/kaggle/working/face_age_cleaned_binary\"\n",
        "\n",
        "# Generador de datos\n",
        "datagen = ImageDataGenerator(\n",
        "    rescale=1./255,\n",
        "    validation_split=0.2\n",
        ")\n",
        "\n",
        "train_gen = datagen.flow_from_directory(\n",
        "    DATA_DIR,\n",
        "    target_size=(IMG_SIZE, IMG_SIZE),\n",
        "    batch_size=BATCH_SIZE,\n",
        "    class_mode='binary',\n",
        "    subset='training'\n",
        ")\n",
        "\n",
        "val_gen = datagen.flow_from_directory(\n",
        "    DATA_DIR,\n",
        "    target_size=(IMG_SIZE, IMG_SIZE),\n",
        "    batch_size=BATCH_SIZE,\n",
        "    class_mode='binary',\n",
        "    subset='validation'\n",
        ")\n",
        "\n",
        "# Modelo CNN\n",
        "model = Sequential([\n",
        "    Conv2D(32, (3, 3), activation='relu', input_shape=(IMG_SIZE, IMG_SIZE, 3)),\n",
        "    MaxPooling2D(2, 2),\n",
        "\n",
        "    Conv2D(64, (3, 3), activation='relu'),\n",
        "    MaxPooling2D(2, 2),\n",
        "\n",
        "    Flatten(),\n",
        "    Dropout(0.5),\n",
        "    Dense(64, activation='relu'),\n",
        "    Dense(1, activation='sigmoid')  # Binario\n",
        "])\n",
        "\n",
        "model.compile(\n",
        "    optimizer='adam',\n",
        "    loss='binary_crossentropy',\n",
        "    metrics=['accuracy']\n",
        ")\n",
        "\n",
        "# Entrenamiento\n",
        "model.fit(\n",
        "    train_gen,\n",
        "    epochs=EPOCHS,\n",
        "    validation_data=val_gen\n",
        ")\n",
        "\n",
        "# Guardar modelo\n",
        "model.save(\"modelo.keras\")\n",
        "print(\"✅ Modelo guardado como modelo.keras\")"
      ],
      "metadata": {
        "colab": {
          "base_uri": "https://localhost:8080/"
        },
        "id": "yfgNdywzgnLX",
        "outputId": "27eeb9d1-5d47-4c42-a6e3-a1d9f64a84bf"
      },
      "execution_count": null,
      "outputs": [
        {
          "output_type": "stream",
          "name": "stdout",
          "text": [
            "Found 7823 images belonging to 2 classes.\n",
            "Found 1955 images belonging to 2 classes.\n"
          ]
        },
        {
          "output_type": "stream",
          "name": "stderr",
          "text": [
            "/usr/local/lib/python3.11/dist-packages/keras/src/layers/convolutional/base_conv.py:107: UserWarning: Do not pass an `input_shape`/`input_dim` argument to a layer. When using Sequential models, prefer using an `Input(shape)` object as the first layer in the model instead.\n",
            "  super().__init__(activity_regularizer=activity_regularizer, **kwargs)\n"
          ]
        },
        {
          "output_type": "stream",
          "name": "stdout",
          "text": [
            "Epoch 1/10\n"
          ]
        },
        {
          "output_type": "stream",
          "name": "stderr",
          "text": [
            "/usr/local/lib/python3.11/dist-packages/keras/src/trainers/data_adapters/py_dataset_adapter.py:121: UserWarning: Your `PyDataset` class should call `super().__init__(**kwargs)` in its constructor. `**kwargs` can include `workers`, `use_multiprocessing`, `max_queue_size`. Do not pass these arguments to `fit()`, as they will be ignored.\n",
            "  self._warn_if_super_not_called()\n"
          ]
        },
        {
          "output_type": "stream",
          "name": "stdout",
          "text": [
            "\u001b[1m245/245\u001b[0m \u001b[32m━━━━━━━━━━━━━━━━━━━━\u001b[0m\u001b[37m\u001b[0m \u001b[1m27s\u001b[0m 92ms/step - accuracy: 0.6791 - loss: 0.6027 - val_accuracy: 0.8419 - val_loss: 0.3647\n",
            "Epoch 2/10\n",
            "\u001b[1m245/245\u001b[0m \u001b[32m━━━━━━━━━━━━━━━━━━━━\u001b[0m\u001b[37m\u001b[0m \u001b[1m20s\u001b[0m 82ms/step - accuracy: 0.8726 - loss: 0.3055 - val_accuracy: 0.9069 - val_loss: 0.2536\n",
            "Epoch 3/10\n",
            "\u001b[1m245/245\u001b[0m \u001b[32m━━━━━━━━━━━━━━━━━━━━\u001b[0m\u001b[37m\u001b[0m \u001b[1m21s\u001b[0m 85ms/step - accuracy: 0.8862 - loss: 0.2722 - val_accuracy: 0.9274 - val_loss: 0.2146\n",
            "Epoch 4/10\n",
            "\u001b[1m245/245\u001b[0m \u001b[32m━━━━━━━━━━━━━━━━━━━━\u001b[0m\u001b[37m\u001b[0m \u001b[1m19s\u001b[0m 78ms/step - accuracy: 0.9129 - loss: 0.2295 - val_accuracy: 0.8829 - val_loss: 0.2953\n",
            "Epoch 5/10\n",
            "\u001b[1m245/245\u001b[0m \u001b[32m━━━━━━━━━━━━━━━━━━━━\u001b[0m\u001b[37m\u001b[0m \u001b[1m20s\u001b[0m 80ms/step - accuracy: 0.9109 - loss: 0.2194 - val_accuracy: 0.8655 - val_loss: 0.3505\n",
            "Epoch 6/10\n",
            "\u001b[1m245/245\u001b[0m \u001b[32m━━━━━━━━━━━━━━━━━━━━\u001b[0m\u001b[37m\u001b[0m \u001b[1m19s\u001b[0m 77ms/step - accuracy: 0.9318 - loss: 0.1843 - val_accuracy: 0.8072 - val_loss: 0.4367\n",
            "Epoch 7/10\n",
            "\u001b[1m245/245\u001b[0m \u001b[32m━━━━━━━━━━━━━━━━━━━━\u001b[0m\u001b[37m\u001b[0m \u001b[1m20s\u001b[0m 80ms/step - accuracy: 0.9359 - loss: 0.1683 - val_accuracy: 0.8409 - val_loss: 0.4299\n",
            "Epoch 8/10\n",
            "\u001b[1m245/245\u001b[0m \u001b[32m━━━━━━━━━━━━━━━━━━━━\u001b[0m\u001b[37m\u001b[0m \u001b[1m21s\u001b[0m 84ms/step - accuracy: 0.9426 - loss: 0.1496 - val_accuracy: 0.7632 - val_loss: 0.6077\n",
            "Epoch 9/10\n",
            "\u001b[1m245/245\u001b[0m \u001b[32m━━━━━━━━━━━━━━━━━━━━\u001b[0m\u001b[37m\u001b[0m \u001b[1m21s\u001b[0m 84ms/step - accuracy: 0.9495 - loss: 0.1331 - val_accuracy: 0.8332 - val_loss: 0.4308\n",
            "Epoch 10/10\n",
            "\u001b[1m245/245\u001b[0m \u001b[32m━━━━━━━━━━━━━━━━━━━━\u001b[0m\u001b[37m\u001b[0m \u001b[1m20s\u001b[0m 82ms/step - accuracy: 0.9478 - loss: 0.1252 - val_accuracy: 0.8394 - val_loss: 0.4187\n",
            "✅ Modelo guardado como modelo.keras\n"
          ]
        }
      ]
    },
    {
      "cell_type": "code",
      "source": [],
      "metadata": {
        "id": "gEfgXEBom4Gb"
      },
      "execution_count": null,
      "outputs": []
    },
    {
      "cell_type": "code",
      "source": [
        "import os\n",
        "import matplotlib.pyplot as plt\n",
        "import tensorflow as tf\n",
        "from tensorflow.keras.preprocessing.image import ImageDataGenerator\n",
        "from sklearn.metrics import confusion_matrix, classification_report, ConfusionMatrixDisplay\n",
        "import numpy as np\n",
        "import seaborn as sns\n",
        "import pandas as pd\n",
        "\n",
        "# Configuración\n",
        "IMG_SIZE = 64\n",
        "BATCH_SIZE = 32\n",
        "DATA_DIR = \"/kaggle/working/face_age_cleaned_binary\"\n",
        "\n",
        "# Generador de datos sin mezcla, para evaluación\n",
        "datagen = ImageDataGenerator(rescale=1./255, validation_split=0.2)\n",
        "\n",
        "val_gen = datagen.flow_from_directory(\n",
        "    DATA_DIR,\n",
        "    target_size=(IMG_SIZE, IMG_SIZE),\n",
        "    batch_size=BATCH_SIZE,\n",
        "    class_mode='binary',\n",
        "    subset='validation',\n",
        "    shuffle=False  # Importante para que coincidan los índices con las predicciones\n",
        ")\n",
        "\n",
        "# Cargar modelo entrenado\n",
        "model = tf.keras.models.load_model(\"modelo.keras\")\n",
        "\n",
        "# Predicciones\n",
        "predictions = model.predict(val_gen)\n",
        "predicted_classes = (predictions > 0.5).astype(int).flatten()\n",
        "true_classes = val_gen.classes\n",
        "class_labels = list(val_gen.class_indices.keys())\n",
        "\n",
        "# Matriz de confusión\n",
        "cm = confusion_matrix(true_classes, predicted_classes)\n",
        "disp = ConfusionMatrixDisplay(confusion_matrix=cm, display_labels=class_labels)\n",
        "\n",
        "# Clasificación detallada\n",
        "report = classification_report(true_classes, predicted_classes, target_names=class_labels, output_dict=True)\n",
        "df_report = pd.DataFrame(report).transpose()\n",
        "\n",
        "# Graficar\n",
        "fig, axs = plt.subplots(1, 2, figsize=(15, 6))\n",
        "\n",
        "# Matriz de confusión\n",
        "sns.heatmap(cm, annot=True, fmt=\"d\", cmap=\"Blues\", xticklabels=class_labels, yticklabels=class_labels, ax=axs[0])\n",
        "axs[0].set_title(\"Matriz de Confusión\")\n",
        "axs[0].set_xlabel(\"Predicción\")\n",
        "axs[0].set_ylabel(\"Real\")\n",
        "\n",
        "# Gráfico de métricas por clase\n",
        "df_report.loc[['0', '1'], ['precision', 'recall', 'f1-score']].plot(kind='bar', ax=axs[1])\n",
        "axs[1].set_title(\"Precisión, Recall y F1-score por clase\")\n",
        "axs[1].set_xticklabels(['Menor de edad (0)', 'Mayor de edad (1)'], rotation=0)\n",
        "axs[1].legend(loc='lower right')\n",
        "\n",
        "plt.tight_layout()\n",
        "plt.show()"
      ],
      "metadata": {
        "colab": {
          "base_uri": "https://localhost:8080/",
          "height": 701
        },
        "id": "QF4NSz2ejPXc",
        "outputId": "738119ea-4565-4674-e7b7-6ce3a41d0c3d"
      },
      "execution_count": null,
      "outputs": [
        {
          "output_type": "stream",
          "name": "stdout",
          "text": [
            "Found 1955 images belonging to 2 classes.\n"
          ]
        },
        {
          "output_type": "stream",
          "name": "stderr",
          "text": [
            "/usr/local/lib/python3.11/dist-packages/keras/src/trainers/data_adapters/py_dataset_adapter.py:121: UserWarning: Your `PyDataset` class should call `super().__init__(**kwargs)` in its constructor. `**kwargs` can include `workers`, `use_multiprocessing`, `max_queue_size`. Do not pass these arguments to `fit()`, as they will be ignored.\n",
            "  self._warn_if_super_not_called()\n"
          ]
        },
        {
          "output_type": "stream",
          "name": "stdout",
          "text": [
            "\u001b[1m62/62\u001b[0m \u001b[32m━━━━━━━━━━━━━━━━━━━━\u001b[0m\u001b[37m\u001b[0m \u001b[1m4s\u001b[0m 59ms/step\n"
          ]
        },
        {
          "output_type": "display_data",
          "data": {
            "text/plain": [
              "<Figure size 1500x600 with 3 Axes>"
            ],
            "image/png": "[encoded data removed]"
          },
          "metadata": {}
        }
      ]
    }
  ]
}